{
 "cells": [
  {
   "cell_type": "markdown",
   "metadata": {},
   "source": [
    "## Extracting and Mapping Place Names\n",
    "### This notebook demonstrates the power of and problems with automated Geoparsing.\n",
    "\n",
    "In this notebook we:\n",
    "- fetch a text from project gutenberg \n",
    "- extract place names from that text with NLTK (geoparsing)\n",
    "- geocode the place names with geopy / geonames (a type of georeferencing)\n",
    "- map the place locations with datascience maps module\n",
    "\n",
    "Learning goals:\n",
    "- Think about the differences in place name vs. coordinate representations of locations.\n",
    "- Consider some of the things you can do with the place names once they are geocoded."
   ]
  },
  {
   "cell_type": "code",
   "execution_count": 52,
   "metadata": {
    "collapsed": true
   },
   "outputs": [],
   "source": [
    "# Run but don't change!\n",
    "from datascience import *\n",
    "from datascience.predicates import are\n",
    "import numpy as np\n",
    "from scipy import stats\n",
    "from scipy import misc\n",
    "\n",
    "from nltk import ne_chunk, pos_tag, word_tokenize\n",
    "from nltk.tree import Tree\n",
    "\n",
    "from urllib.request import urlopen \n",
    "import re\n",
    "def read_url(url): \n",
    "    return re.sub('\\\\s+', ' ', urlopen(url).read().decode())\n",
    "\n",
    "from itertools import groupby\n",
    "\n",
    "from geopy.geocoders import GoogleV3\n",
    "\n",
    "import folium"
   ]
  },
  {
   "cell_type": "code",
   "execution_count": 53,
   "metadata": {
    "collapsed": true
   },
   "outputs": [],
   "source": [
    "# Create an NLTK location parsing function\n",
    "# Source: http://stackoverflow.com/questions/31836058/nltk-named-entity-recognition-to-a-python-list\n",
    "def get_continuous_chunks(text):\n",
    "    chunked = ne_chunk(pos_tag(word_tokenize(text)))\n",
    "    #print(chunked)\n",
    "    prev = None\n",
    "    continuous_chunk = []\n",
    "    current_chunk = []\n",
    "    for i in chunked:\n",
    "        if type(i) == Tree and (str(i).find('GPE') >=0):\n",
    "            #print(i)\n",
    "            current_chunk.append(\" \".join([token for token, pos in i.leaves()]))\n",
    "            #print(\"......\", current_chunk)\n",
    "        elif current_chunk:\n",
    "            named_entity = \" \".join(current_chunk)\n",
    "            #if named_entity not in continuous_chunk:\n",
    "            #    continuous_chunk.append(named_entity)\n",
    "            #    current_chunk = []\n",
    "            continuous_chunk.append(named_entity)\n",
    "            current_chunk = []\n",
    "        else:\n",
    "            continue\n",
    "    return continuous_chunk"
   ]
  },
  {
   "cell_type": "code",
   "execution_count": 54,
   "metadata": {
    "collapsed": false
   },
   "outputs": [
    {
     "data": {
      "text/plain": [
       "'Washington -- In the wake of a string of abuses by New York police officers in the 1990s, Loretta E. Lynch the top federal prosecutor in Brooklyn, spoke forcefully about the pain of a broken trust that African-Americans felt and said the responsibility for repairing generations of miscommunication and mistrust fell to law enforcement. Similar feelings were reported in Washington.'"
      ]
     },
     "execution_count": 54,
     "metadata": {},
     "output_type": "execute_result"
    }
   ],
   "source": [
    "# Test the NLTK location parsing function\n",
    "my_sent = \"Washington -- In the wake of a string of abuses by New York police officers in the 1990s, Loretta E. Lynch the top federal prosecutor in Brooklyn, spoke forcefully about the pain of a broken trust that African-Americans felt and said the responsibility for repairing generations of miscommunication and mistrust fell to law enforcement. Similar feelings were reported in Washington.\"\n",
    "\n",
    "my_sent"
   ]
  },
  {
   "cell_type": "code",
   "execution_count": 55,
   "metadata": {
    "collapsed": false
   },
   "outputs": [],
   "source": [
    "my_locs = get_continuous_chunks(my_sent)"
   ]
  },
  {
   "cell_type": "code",
   "execution_count": 56,
   "metadata": {
    "collapsed": false
   },
   "outputs": [
    {
     "name": "stdout",
     "output_type": "stream",
     "text": [
      "[('Brooklyn', 1), ('New York', 1), ('Washington', 2)]\n",
      "('Brooklyn', 'New York', 'Washington')\n",
      "(1, 1, 2)\n"
     ]
    }
   ],
   "source": [
    "loc_count =  [(k, len(list(g))) for k, g in groupby(sorted(my_locs))]\n",
    "print(loc_count)\n",
    "(a,b) = zip(*loc_count) # this returns two lists that can then be columns in tables\n",
    "print(a)\n",
    "print(b)"
   ]
  },
  {
   "cell_type": "code",
   "execution_count": 57,
   "metadata": {
    "collapsed": false
   },
   "outputs": [],
   "source": [
    "# Define a geocoder \n",
    "# IMPORTANT ! - this uses my username!! need to change that to your own!\n",
    "gloc = GoogleV3()"
   ]
  },
  {
   "cell_type": "code",
   "execution_count": 58,
   "metadata": {
    "collapsed": false
   },
   "outputs": [
    {
     "data": {
      "text/plain": [
       "Location(Berkeley, CA, USA, (37.8715926, -122.272747, 0.0))"
      ]
     },
     "execution_count": 58,
     "metadata": {},
     "output_type": "execute_result"
    }
   ],
   "source": [
    "# Test the geocoder\n",
    "x = gloc.geocode('Berkeley')\n",
    "x #basic geocoder output"
   ]
  },
  {
   "cell_type": "code",
   "execution_count": 59,
   "metadata": {
    "collapsed": false
   },
   "outputs": [
    {
     "name": "stdout",
     "output_type": "stream",
     "text": [
      "{'formatted_address': 'Berkeley, CA, USA', 'address_components': [{'long_name': 'Berkeley', 'types': ['locality', 'political'], 'short_name': 'Berkeley'}, {'long_name': 'Alameda County', 'types': ['administrative_area_level_2', 'political'], 'short_name': 'Alameda County'}, {'long_name': 'California', 'types': ['administrative_area_level_1', 'political'], 'short_name': 'CA'}, {'long_name': 'United States', 'types': ['country', 'political'], 'short_name': 'US'}], 'types': ['locality', 'political'], 'place_id': 'ChIJ00mFOjZ5hYARk-l1ppUV6pQ', 'geometry': {'location': {'lng': -122.272747, 'lat': 37.8715926}, 'viewport': {'southwest': {'lng': -122.3270651, 'lat': 37.8462261}, 'northeast': {'lng': -122.234179, 'lat': 37.9056681}}, 'bounds': {'southwest': {'lng': -122.3270651, 'lat': 37.8462261}, 'northeast': {'lng': -122.234179, 'lat': 37.9056681}}, 'location_type': 'APPROXIMATE'}}\n"
     ]
    }
   ],
   "source": [
    "# Full geocoder output\n",
    "print(x.raw)"
   ]
  },
  {
   "cell_type": "code",
   "execution_count": 60,
   "metadata": {
    "collapsed": false
   },
   "outputs": [],
   "source": [
    "# Read in a text to Geoparse\n",
    "\n",
    "#huck_finn_url = 'http://www.gutenberg.org/cache/epub/76/pg76.txt'\n",
    "#huck_finn_text = read_url(huck_finn_url)\n",
    "#text_url = huck_finn_url # NOT good for geocoding\n",
    "\n",
    "#text_url = 'http://www.gutenberg.org/cache/epub/541/pg541.txt' # age of innocence\n",
    "#text_url = 'http://www.gutenberg.org/cache/epub/3029/pg3029.txt'\n",
    "text_url = 'http://www.gutenberg.org/cache/epub/103/pg103.txt' #around the world in 80 days\n",
    "\n",
    "the_text = read_url(text_url)"
   ]
  },
  {
   "cell_type": "code",
   "execution_count": 61,
   "metadata": {
    "collapsed": false
   },
   "outputs": [],
   "source": [
    "# this can take a few minutes...\n",
    "text_locs = get_continuous_chunks(the_text)"
   ]
  },
  {
   "cell_type": "code",
   "execution_count": 62,
   "metadata": {
    "collapsed": true
   },
   "outputs": [],
   "source": [
    "loc_count =  [(k, len(list(g))) for k, g in groupby(sorted(text_locs))]"
   ]
  },
  {
   "cell_type": "code",
   "execution_count": 63,
   "metadata": {
    "collapsed": false
   },
   "outputs": [
    {
     "data": {
      "text/plain": [
       "[('Aden', 5),\n",
       " ('Africa', 3),\n",
       " ('Ahmehnagara', 1),\n",
       " ('Allahabad', 9),\n",
       " ('America', 14),\n",
       " ('American', 27),\n",
       " ('Americans', 3),\n",
       " ('Anam', 1),\n",
       " ('Aouda', 33),\n",
       " ('Apiece', 1),\n",
       " ('Armenian', 1),\n",
       " ('Asia', 4),\n",
       " ('Asian', 1),\n",
       " ('Athens', 1),\n",
       " ('Auburn', 1),\n",
       " ('Banyans', 1),\n",
       " ('Barnum', 1),\n",
       " ('Behar', 2),\n",
       " ('Benares', 1),\n",
       " ('Bengal', 4),\n",
       " ('Biblical', 1),\n",
       " ('Birmingham', 1),\n",
       " ('Bombay', 52),\n",
       " ('Bordeaux', 5),\n",
       " ('Brahmins', 1),\n",
       " ('Brazil', 1),\n",
       " ('Brigham Young', 1),\n",
       " ('Brindisi', 9),\n",
       " ('British', 7),\n",
       " ('British India', 1),\n",
       " ('Broadway', 2),\n",
       " ('Buddhism', 1),\n",
       " ('Buddhist', 1),\n",
       " ('Bundelcund', 7),\n",
       " ('Burdwan', 1),\n",
       " ('Burhampoor', 1),\n",
       " ('Buxar', 1),\n",
       " ('Byronic', 1),\n",
       " ('Calais', 2),\n",
       " ('Calcutta', 29),\n",
       " ('California', 3),\n",
       " ('Californian', 1),\n",
       " ('Cambray', 1),\n",
       " ('Cancer', 1),\n",
       " ('Cani', 1),\n",
       " ('Captain', 1),\n",
       " ('Captain Speedy', 1),\n",
       " ('Cardiff', 1),\n",
       " ('Carnatic', 1),\n",
       " ('Certain', 1),\n",
       " ('Ceylon', 1),\n",
       " ('Ceylonese', 1),\n",
       " ('Chancery', 1),\n",
       " ('Chandernagor', 2),\n",
       " ('Cheshire', 1),\n",
       " ('Chicago', 8),\n",
       " ('Chili', 1),\n",
       " ('China', 13),\n",
       " ('Chinamen', 2),\n",
       " ('Chinese', 16),\n",
       " ('Christians', 1),\n",
       " ('Chupenie', 1),\n",
       " ('Colfax', 1),\n",
       " ('Colonel', 1),\n",
       " ('Colorado', 3),\n",
       " ('Columbus', 1),\n",
       " ('Crown', 1),\n",
       " ('December', 1),\n",
       " ('Denver', 1),\n",
       " ('Dover', 1),\n",
       " ('Dublin', 3),\n",
       " ('Dutch', 2),\n",
       " ('Dutchmen', 1),\n",
       " ('Egypt', 2),\n",
       " ('Egyptian', 1),\n",
       " ('Elephanta', 1),\n",
       " ('Enfield', 1),\n",
       " ('England', 30),\n",
       " ('English', 60),\n",
       " ('Europe', 13),\n",
       " ('European', 11),\n",
       " ('Europeans', 2),\n",
       " ('Except', 1),\n",
       " ('Fix', 14),\n",
       " ('Flanagan', 1),\n",
       " ('Fogg', 3),\n",
       " ('France', 3),\n",
       " ('Fremont', 1),\n",
       " ('French', 11),\n",
       " ('Frenchman', 6),\n",
       " ('Ganges', 3),\n",
       " ('Germany', 1),\n",
       " ('God', 1),\n",
       " ('Greenwich', 1),\n",
       " ('Havre', 2),\n",
       " ('Himalaya', 1),\n",
       " ('Hindoo', 1),\n",
       " ('Holland', 2),\n",
       " ('Hong', 1),\n",
       " ('Hong Kong', 57),\n",
       " ('Hudson', 3),\n",
       " ('INDIRECT', 1),\n",
       " ('Illinois', 3),\n",
       " ('Independence', 1),\n",
       " ('India', 34),\n",
       " ('Indian', 28),\n",
       " ('Indian Ocean', 3),\n",
       " ('Indiana', 1),\n",
       " ('Indians', 18),\n",
       " ('Indus', 1),\n",
       " ('Iowa', 2),\n",
       " ('Irish', 2),\n",
       " ('Israel', 1),\n",
       " ('Italian', 1),\n",
       " ('Italiens', 1),\n",
       " ('Japan', 13),\n",
       " ('Japanese', 22),\n",
       " ('Japanese Empire', 1),\n",
       " ('Jean', 1),\n",
       " ('Jordan', 2),\n",
       " ('Juggernaut', 3),\n",
       " ('Kallenger', 1),\n",
       " ('Kama', 1),\n",
       " ('Kandallah', 1),\n",
       " ('Kanherian', 1),\n",
       " ('Kansas', 1),\n",
       " ('Kearney', 1),\n",
       " ('Kent', 1),\n",
       " ('Khandeish', 2),\n",
       " ('Kholby', 2),\n",
       " ('Kiouni', 5),\n",
       " ('Kirkland', 1),\n",
       " ('Liverpool', 3),\n",
       " ('London', 62),\n",
       " ('Londoner', 1),\n",
       " ('Long', 1),\n",
       " ('Long Island', 1),\n",
       " ('Macao', 2),\n",
       " ('Madras', 3),\n",
       " ('Malacca', 3),\n",
       " ('Malays', 1),\n",
       " ('Mandiboy', 1),\n",
       " ('Mexico', 1),\n",
       " ('Middle Ages', 1),\n",
       " ('Mikado', 1),\n",
       " ('Mississippi', 2),\n",
       " ('Missouri', 1),\n",
       " ('Mongolia', 9),\n",
       " ('Mormon', 6),\n",
       " ('Murshedabad', 1),\n",
       " ('Nagasaki', 2),\n",
       " ('Nankin', 1),\n",
       " ('Nebraska', 1),\n",
       " ('Neptune', 1),\n",
       " ('Nevada', 2),\n",
       " ('New Holland', 1),\n",
       " ('New Jersey', 1),\n",
       " ('New York', 28),\n",
       " ('Newfoundland', 1),\n",
       " ('Nizam', 1),\n",
       " ('North America', 1),\n",
       " ('North Platte', 1),\n",
       " ('Northern', 1),\n",
       " ('Norway', 1),\n",
       " ('Oakland', 1),\n",
       " ('Ohio', 3),\n",
       " ('Omaha', 13),\n",
       " ('Oregon', 1),\n",
       " ('Pall Mall', 2),\n",
       " ('Paris', 10),\n",
       " ('Parisian', 3),\n",
       " ('Parsee', 7),\n",
       " ('Passepartout', 55),\n",
       " ('Pennsylvania', 1),\n",
       " ('Persians', 1),\n",
       " ('Phileas Fogg', 1),\n",
       " ('Pillaji', 6),\n",
       " ('Portuguese', 2),\n",
       " ('Pounah', 1),\n",
       " ('Ralph', 1),\n",
       " ('Ramayana', 1),\n",
       " ('Rangoon', 4),\n",
       " ('Reform', 5),\n",
       " ('Regent', 1),\n",
       " ('Rothal', 1),\n",
       " ('STATES', 1),\n",
       " ('Sacramento', 1),\n",
       " ('Salcette', 2),\n",
       " ('San', 8),\n",
       " ('San Francisco', 6),\n",
       " ('Saville', 9),\n",
       " ('Saville Row', 5),\n",
       " ('Scotch', 1),\n",
       " ('Scotland', 1),\n",
       " ('Scotland Yard', 1),\n",
       " ('Sedgwick', 1),\n",
       " ('Shanghai', 14),\n",
       " ('Sheridan', 1),\n",
       " ('Sindes', 1),\n",
       " ('Singapore', 9),\n",
       " ('Sioux', 4),\n",
       " ('Sir', 1),\n",
       " ('Solomon', 1),\n",
       " ('Somalis', 1),\n",
       " ('South', 1),\n",
       " ('Southampton', 1),\n",
       " ('Stuart', 1),\n",
       " ('Suez', 7),\n",
       " ('Sumatra', 1),\n",
       " ('Surat', 1),\n",
       " ('Sweden', 1),\n",
       " ('Sydenham', 1),\n",
       " ('Tears', 1),\n",
       " ('Temple', 1),\n",
       " ('Times', 1),\n",
       " ('Tingou', 1),\n",
       " ('Tycoon', 1),\n",
       " ('U.S.', 3),\n",
       " ('United States', 17),\n",
       " ('Uranus', 1),\n",
       " ('Utah', 3),\n",
       " ('Vermont', 2),\n",
       " ('Victoria', 2),\n",
       " ('Vicvarcarma', 1),\n",
       " ('Wait', 1),\n",
       " ('West', 1),\n",
       " ('Wyoming', 1),\n",
       " ('Yeddo', 2),\n",
       " ('Yokohama', 21)]"
      ]
     },
     "execution_count": 63,
     "metadata": {},
     "output_type": "execute_result"
    }
   ],
   "source": [
    "loc_count"
   ]
  },
  {
   "cell_type": "code",
   "execution_count": 64,
   "metadata": {
    "collapsed": false
   },
   "outputs": [],
   "source": [
    "# Create an empty table\n",
    "loc_table = Table(['place','count'])"
   ]
  },
  {
   "cell_type": "code",
   "execution_count": 65,
   "metadata": {
    "collapsed": true
   },
   "outputs": [],
   "source": [
    "# Put the location data into the table\n",
    "(loc_table['place'], loc_table['count']) = zip(*loc_count)"
   ]
  },
  {
   "cell_type": "code",
   "execution_count": 66,
   "metadata": {
    "collapsed": false
   },
   "outputs": [
    {
     "data": {
      "text/html": [
       "<table border=\"1\" class=\"dataframe\">\n",
       "    <thead>\n",
       "        <tr>\n",
       "            <th>place</th> <th>count</th>\n",
       "        </tr>\n",
       "    </thead>\n",
       "    <tbody>\n",
       "        <tr>\n",
       "            <td>Aden       </td> <td>5    </td>\n",
       "        </tr>\n",
       "    </tbody>\n",
       "        <tr>\n",
       "            <td>Africa     </td> <td>3    </td>\n",
       "        </tr>\n",
       "    </tbody>\n",
       "        <tr>\n",
       "            <td>Ahmehnagara</td> <td>1    </td>\n",
       "        </tr>\n",
       "    </tbody>\n",
       "        <tr>\n",
       "            <td>Allahabad  </td> <td>9    </td>\n",
       "        </tr>\n",
       "    </tbody>\n",
       "        <tr>\n",
       "            <td>America    </td> <td>14   </td>\n",
       "        </tr>\n",
       "    </tbody>\n",
       "        <tr>\n",
       "            <td>American   </td> <td>27   </td>\n",
       "        </tr>\n",
       "    </tbody>\n",
       "        <tr>\n",
       "            <td>Americans  </td> <td>3    </td>\n",
       "        </tr>\n",
       "    </tbody>\n",
       "        <tr>\n",
       "            <td>Anam       </td> <td>1    </td>\n",
       "        </tr>\n",
       "    </tbody>\n",
       "        <tr>\n",
       "            <td>Aouda      </td> <td>33   </td>\n",
       "        </tr>\n",
       "    </tbody>\n",
       "        <tr>\n",
       "            <td>Apiece     </td> <td>1    </td>\n",
       "        </tr>\n",
       "    </tbody>\n",
       "</table>\n",
       "<p>... (219 rows omitted)</p"
      ],
      "text/plain": [
       "place       | count\n",
       "Aden        | 5\n",
       "Africa      | 3\n",
       "Ahmehnagara | 1\n",
       "Allahabad   | 9\n",
       "America     | 14\n",
       "American    | 27\n",
       "Americans   | 3\n",
       "Anam        | 1\n",
       "Aouda       | 33\n",
       "Apiece      | 1\n",
       "... (219 rows omitted)"
      ]
     },
     "execution_count": 66,
     "metadata": {},
     "output_type": "execute_result"
    }
   ],
   "source": [
    "loc_table"
   ]
  },
  {
   "cell_type": "code",
   "execution_count": 67,
   "metadata": {
    "collapsed": false
   },
   "outputs": [
    {
     "data": {
      "text/html": [
       "<table border=\"1\" class=\"dataframe\">\n",
       "    <thead>\n",
       "        <tr>\n",
       "            <th>place</th> <th>count</th>\n",
       "        </tr>\n",
       "    </thead>\n",
       "    <tbody>\n",
       "        <tr>\n",
       "            <td>London       </td> <td>62   </td>\n",
       "        </tr>\n",
       "    </tbody>\n",
       "        <tr>\n",
       "            <td>English      </td> <td>60   </td>\n",
       "        </tr>\n",
       "    </tbody>\n",
       "        <tr>\n",
       "            <td>Hong Kong    </td> <td>57   </td>\n",
       "        </tr>\n",
       "    </tbody>\n",
       "        <tr>\n",
       "            <td>Passepartout </td> <td>55   </td>\n",
       "        </tr>\n",
       "    </tbody>\n",
       "        <tr>\n",
       "            <td>Bombay       </td> <td>52   </td>\n",
       "        </tr>\n",
       "    </tbody>\n",
       "        <tr>\n",
       "            <td>India        </td> <td>34   </td>\n",
       "        </tr>\n",
       "    </tbody>\n",
       "        <tr>\n",
       "            <td>Aouda        </td> <td>33   </td>\n",
       "        </tr>\n",
       "    </tbody>\n",
       "        <tr>\n",
       "            <td>England      </td> <td>30   </td>\n",
       "        </tr>\n",
       "    </tbody>\n",
       "        <tr>\n",
       "            <td>Calcutta     </td> <td>29   </td>\n",
       "        </tr>\n",
       "    </tbody>\n",
       "        <tr>\n",
       "            <td>New York     </td> <td>28   </td>\n",
       "        </tr>\n",
       "    </tbody>\n",
       "        <tr>\n",
       "            <td>Indian       </td> <td>28   </td>\n",
       "        </tr>\n",
       "    </tbody>\n",
       "        <tr>\n",
       "            <td>American     </td> <td>27   </td>\n",
       "        </tr>\n",
       "    </tbody>\n",
       "        <tr>\n",
       "            <td>Japanese     </td> <td>22   </td>\n",
       "        </tr>\n",
       "    </tbody>\n",
       "        <tr>\n",
       "            <td>Yokohama     </td> <td>21   </td>\n",
       "        </tr>\n",
       "    </tbody>\n",
       "        <tr>\n",
       "            <td>Indians      </td> <td>18   </td>\n",
       "        </tr>\n",
       "    </tbody>\n",
       "        <tr>\n",
       "            <td>United States</td> <td>17   </td>\n",
       "        </tr>\n",
       "    </tbody>\n",
       "        <tr>\n",
       "            <td>Chinese      </td> <td>16   </td>\n",
       "        </tr>\n",
       "    </tbody>\n",
       "        <tr>\n",
       "            <td>Shanghai     </td> <td>14   </td>\n",
       "        </tr>\n",
       "    </tbody>\n",
       "        <tr>\n",
       "            <td>Fix          </td> <td>14   </td>\n",
       "        </tr>\n",
       "    </tbody>\n",
       "        <tr>\n",
       "            <td>America      </td> <td>14   </td>\n",
       "        </tr>\n",
       "    </tbody>\n",
       "        <tr>\n",
       "            <td>Omaha        </td> <td>13   </td>\n",
       "        </tr>\n",
       "    </tbody>\n",
       "        <tr>\n",
       "            <td>Japan        </td> <td>13   </td>\n",
       "        </tr>\n",
       "    </tbody>\n",
       "        <tr>\n",
       "            <td>Europe       </td> <td>13   </td>\n",
       "        </tr>\n",
       "    </tbody>\n",
       "        <tr>\n",
       "            <td>China        </td> <td>13   </td>\n",
       "        </tr>\n",
       "    </tbody>\n",
       "        <tr>\n",
       "            <td>French       </td> <td>11   </td>\n",
       "        </tr>\n",
       "    </tbody>\n",
       "        <tr>\n",
       "            <td>European     </td> <td>11   </td>\n",
       "        </tr>\n",
       "    </tbody>\n",
       "        <tr>\n",
       "            <td>Paris        </td> <td>10   </td>\n",
       "        </tr>\n",
       "    </tbody>\n",
       "        <tr>\n",
       "            <td>Singapore    </td> <td>9    </td>\n",
       "        </tr>\n",
       "    </tbody>\n",
       "        <tr>\n",
       "            <td>Saville      </td> <td>9    </td>\n",
       "        </tr>\n",
       "    </tbody>\n",
       "        <tr>\n",
       "            <td>Mongolia     </td> <td>9    </td>\n",
       "        </tr>\n",
       "    </tbody>\n",
       "        <tr>\n",
       "            <td>Brindisi     </td> <td>9    </td>\n",
       "        </tr>\n",
       "    </tbody>\n",
       "        <tr>\n",
       "            <td>Allahabad    </td> <td>9    </td>\n",
       "        </tr>\n",
       "    </tbody>\n",
       "        <tr>\n",
       "            <td>San          </td> <td>8    </td>\n",
       "        </tr>\n",
       "    </tbody>\n",
       "        <tr>\n",
       "            <td>Chicago      </td> <td>8    </td>\n",
       "        </tr>\n",
       "    </tbody>\n",
       "        <tr>\n",
       "            <td>Suez         </td> <td>7    </td>\n",
       "        </tr>\n",
       "    </tbody>\n",
       "        <tr>\n",
       "            <td>Parsee       </td> <td>7    </td>\n",
       "        </tr>\n",
       "    </tbody>\n",
       "        <tr>\n",
       "            <td>Bundelcund   </td> <td>7    </td>\n",
       "        </tr>\n",
       "    </tbody>\n",
       "        <tr>\n",
       "            <td>British      </td> <td>7    </td>\n",
       "        </tr>\n",
       "    </tbody>\n",
       "        <tr>\n",
       "            <td>San Francisco</td> <td>6    </td>\n",
       "        </tr>\n",
       "    </tbody>\n",
       "        <tr>\n",
       "            <td>Pillaji      </td> <td>6    </td>\n",
       "        </tr>\n",
       "    </tbody>\n",
       "        <tr>\n",
       "            <td>Mormon       </td> <td>6    </td>\n",
       "        </tr>\n",
       "    </tbody>\n",
       "        <tr>\n",
       "            <td>Frenchman    </td> <td>6    </td>\n",
       "        </tr>\n",
       "    </tbody>\n",
       "</table>"
      ],
      "text/plain": [
       "<IPython.core.display.HTML object>"
      ]
     },
     "metadata": {},
     "output_type": "display_data"
    }
   ],
   "source": [
    "# Optional and arbitrary - remove minor mentions\n",
    "top_locs = loc_table.where(loc_table['count'] > 5)\n",
    "top_locs.sort('count', descending=True).show()"
   ]
  },
  {
   "cell_type": "code",
   "execution_count": 89,
   "metadata": {
    "collapsed": false
   },
   "outputs": [
    {
     "data": {
      "text/plain": [
       "Location(Portuguesa, Rio de Janeiro - State of Rio de Janeiro, Brazil, (-22.7964731, -43.2077641, 0.0))"
      ]
     },
     "execution_count": 89,
     "metadata": {},
     "output_type": "execute_result"
    }
   ],
   "source": [
    "# Examining some of the non-loc locs and how the geocoder will disambiguate\n",
    "x = gloc.geocode('Portuguese')\n",
    "#x = gloc.geocode('European')\n",
    "x"
   ]
  },
  {
   "cell_type": "code",
   "execution_count": 99,
   "metadata": {
    "collapsed": false
   },
   "outputs": [
    {
     "data": {
      "text/plain": [
       "13"
      ]
     },
     "execution_count": 99,
     "metadata": {},
     "output_type": "execute_result"
    }
   ],
   "source": [
    "g = x.raw['address_components'][0]['types']\n",
    "dir(g)\n",
    "g1 = ','.join(map(str, g)) \n",
    "g1.find('locality')"
   ]
  },
  {
   "cell_type": "code",
   "execution_count": 90,
   "metadata": {
    "collapsed": false
   },
   "outputs": [
    {
     "name": "stdout",
     "output_type": "stream",
     "text": [
      "{'formatted_address': 'Portuguesa, Rio de Janeiro - State of Rio de Janeiro, Brazil', 'address_components': [{'long_name': 'Portuguesa', 'types': ['political', 'sublocality', 'sublocality_level_1'], 'short_name': 'Portuguesa'}, {'long_name': 'Rio de Janeiro', 'types': ['locality', 'political'], 'short_name': 'Rio de Janeiro'}, {'long_name': 'Rio de Janeiro', 'types': ['administrative_area_level_2', 'political'], 'short_name': 'Rio de Janeiro'}, {'long_name': 'State of Rio de Janeiro', 'types': ['administrative_area_level_1', 'political'], 'short_name': 'RJ'}, {'long_name': 'Brazil', 'types': ['country', 'political'], 'short_name': 'BR'}], 'types': ['political', 'sublocality', 'sublocality_level_1'], 'place_id': 'ChIJjyWZHId3mQARg8SXKHGphUo', 'geometry': {'location': {'lng': -43.2077641, 'lat': -22.7964731}, 'viewport': {'southwest': {'lng': -43.2127538, 'lat': -22.8059195}, 'northeast': {'lng': -43.2004043, 'lat': -22.7919554}}, 'bounds': {'southwest': {'lng': -43.2127538, 'lat': -22.8059195}, 'northeast': {'lng': -43.2004043, 'lat': -22.7919554}}, 'location_type': 'APPROXIMATE'}}\n",
      "Portuguesa, Rio de Janeiro - State of Rio de Janeiro, Brazil\n",
      "['political', 'sublocality', 'sublocality_level_1']\n",
      "political\n",
      "-22.7964731\n",
      "-43.2077641\n"
     ]
    }
   ],
   "source": [
    "print(x.raw)\n",
    "print(x.raw['formatted_address'])\n",
    "print(str(x.raw['address_components'][0]['types']))\n",
    "print(x.raw['address_components'][0]['types'][0])\n",
    "print(x.raw['geometry']['location']['lat'])\n",
    "print(x.raw['geometry']['location']['lng'])\n"
   ]
  },
  {
   "cell_type": "code",
   "execution_count": 70,
   "metadata": {
    "collapsed": false
   },
   "outputs": [
    {
     "data": {
      "text/html": [
       "<table border=\"1\" class=\"dataframe\">\n",
       "    <thead>\n",
       "        <tr>\n",
       "            <th>place</th> <th>count</th>\n",
       "        </tr>\n",
       "    </thead>\n",
       "    <tbody>\n",
       "        <tr>\n",
       "            <td>Allahabad    </td> <td>9    </td>\n",
       "        </tr>\n",
       "    </tbody>\n",
       "        <tr>\n",
       "            <td>America      </td> <td>14   </td>\n",
       "        </tr>\n",
       "    </tbody>\n",
       "        <tr>\n",
       "            <td>Aouda        </td> <td>33   </td>\n",
       "        </tr>\n",
       "    </tbody>\n",
       "        <tr>\n",
       "            <td>Bombay       </td> <td>52   </td>\n",
       "        </tr>\n",
       "    </tbody>\n",
       "        <tr>\n",
       "            <td>Brindisi     </td> <td>9    </td>\n",
       "        </tr>\n",
       "    </tbody>\n",
       "        <tr>\n",
       "            <td>Bundelcund   </td> <td>7    </td>\n",
       "        </tr>\n",
       "    </tbody>\n",
       "        <tr>\n",
       "            <td>Calcutta     </td> <td>29   </td>\n",
       "        </tr>\n",
       "    </tbody>\n",
       "        <tr>\n",
       "            <td>Chicago      </td> <td>8    </td>\n",
       "        </tr>\n",
       "    </tbody>\n",
       "        <tr>\n",
       "            <td>China        </td> <td>13   </td>\n",
       "        </tr>\n",
       "    </tbody>\n",
       "        <tr>\n",
       "            <td>England      </td> <td>30   </td>\n",
       "        </tr>\n",
       "    </tbody>\n",
       "        <tr>\n",
       "            <td>Europe       </td> <td>13   </td>\n",
       "        </tr>\n",
       "    </tbody>\n",
       "        <tr>\n",
       "            <td>European     </td> <td>11   </td>\n",
       "        </tr>\n",
       "    </tbody>\n",
       "        <tr>\n",
       "            <td>Fix          </td> <td>14   </td>\n",
       "        </tr>\n",
       "    </tbody>\n",
       "        <tr>\n",
       "            <td>Frenchman    </td> <td>6    </td>\n",
       "        </tr>\n",
       "    </tbody>\n",
       "        <tr>\n",
       "            <td>Hong Kong    </td> <td>57   </td>\n",
       "        </tr>\n",
       "    </tbody>\n",
       "        <tr>\n",
       "            <td>India        </td> <td>34   </td>\n",
       "        </tr>\n",
       "    </tbody>\n",
       "        <tr>\n",
       "            <td>Japan        </td> <td>13   </td>\n",
       "        </tr>\n",
       "    </tbody>\n",
       "        <tr>\n",
       "            <td>London       </td> <td>62   </td>\n",
       "        </tr>\n",
       "    </tbody>\n",
       "        <tr>\n",
       "            <td>Mongolia     </td> <td>9    </td>\n",
       "        </tr>\n",
       "    </tbody>\n",
       "        <tr>\n",
       "            <td>Mormon       </td> <td>6    </td>\n",
       "        </tr>\n",
       "    </tbody>\n",
       "        <tr>\n",
       "            <td>New York     </td> <td>28   </td>\n",
       "        </tr>\n",
       "    </tbody>\n",
       "        <tr>\n",
       "            <td>Omaha        </td> <td>13   </td>\n",
       "        </tr>\n",
       "    </tbody>\n",
       "        <tr>\n",
       "            <td>Paris        </td> <td>10   </td>\n",
       "        </tr>\n",
       "    </tbody>\n",
       "        <tr>\n",
       "            <td>Parsee       </td> <td>7    </td>\n",
       "        </tr>\n",
       "    </tbody>\n",
       "        <tr>\n",
       "            <td>Passepartout </td> <td>55   </td>\n",
       "        </tr>\n",
       "    </tbody>\n",
       "        <tr>\n",
       "            <td>Pillaji      </td> <td>6    </td>\n",
       "        </tr>\n",
       "    </tbody>\n",
       "        <tr>\n",
       "            <td>San          </td> <td>8    </td>\n",
       "        </tr>\n",
       "    </tbody>\n",
       "        <tr>\n",
       "            <td>San Francisco</td> <td>6    </td>\n",
       "        </tr>\n",
       "    </tbody>\n",
       "        <tr>\n",
       "            <td>Saville      </td> <td>9    </td>\n",
       "        </tr>\n",
       "    </tbody>\n",
       "        <tr>\n",
       "            <td>Shanghai     </td> <td>14   </td>\n",
       "        </tr>\n",
       "    </tbody>\n",
       "        <tr>\n",
       "            <td>Singapore    </td> <td>9    </td>\n",
       "        </tr>\n",
       "    </tbody>\n",
       "        <tr>\n",
       "            <td>Suez         </td> <td>7    </td>\n",
       "        </tr>\n",
       "    </tbody>\n",
       "        <tr>\n",
       "            <td>United States</td> <td>17   </td>\n",
       "        </tr>\n",
       "    </tbody>\n",
       "        <tr>\n",
       "            <td>Yokohama     </td> <td>21   </td>\n",
       "        </tr>\n",
       "    </tbody>\n",
       "</table>"
      ],
      "text/plain": [
       "<IPython.core.display.HTML object>"
      ]
     },
     "metadata": {},
     "output_type": "display_data"
    }
   ],
   "source": [
    "# Half-hearted attempt to clean up locations - an example of how one might move forward..\n",
    "# Could use regular expressions to clean this.\n",
    "# remove places ending in \"an\", \"ans\", \"ish\", \"ese\", and \"French\" \n",
    "top_locs = top_locs.where((top_locs['place'] !=('French')) & (top_locs['place'] !=('American')))\n",
    "top_locs = top_locs.where((top_locs['place'] !=('British')) & (top_locs['place'] !=('English')))\n",
    "top_locs = top_locs.where((top_locs['place'] !=('French')) & (top_locs['place'] !=('American')))\n",
    "top_locs = top_locs.where((top_locs['place'] !=('Chinese')) & (top_locs['place'] !=('Portuguese')))\n",
    "top_locs = top_locs.where((top_locs['place'] !=('Indian')) & (top_locs['place'] !=('Indians')))\n",
    "top_locs = top_locs.where((top_locs['place'] !=('Japanese')) & (top_locs['place'] !=('Mexican')))\n",
    "top_locs = top_locs.where((top_locs['place'] !=('Servian'))) \n",
    "top_locs.show()"
   ]
  },
  {
   "cell_type": "code",
   "execution_count": 101,
   "metadata": {
    "collapsed": false
   },
   "outputs": [],
   "source": [
    "# A function to geocode the places one by one and \n",
    "# return output that will load nicely into our table\n",
    "def getGeocodeInfo(place):\n",
    "    print('geocoding...', place)\n",
    "    x = gloc.geocode(place)\n",
    "    if(x != None):\n",
    "        mylat = float(x.raw['geometry']['location']['lat'])\n",
    "        mylng= float(x.raw['geometry']['location']['lng'])\n",
    "        myloctype = x.raw['address_components'][0]['types']\n",
    "        myloctype = ','.join(map(str, myloctype)) \n",
    "        mylocname = x.raw['formatted_address']\n",
    " \n",
    "        mystuff = [mylng,mylat,myloctype,mylocname]\n",
    "    else:\n",
    "        #what to return whn a place can't be geocoded\n",
    "        mystuff = [0,0,\"none\",\"none\"]\n",
    "        \n",
    "    return mystuff"
   ]
  },
  {
   "cell_type": "code",
   "execution_count": 102,
   "metadata": {
    "collapsed": false
   },
   "outputs": [
    {
     "name": "stdout",
     "output_type": "stream",
     "text": [
      "geocoding... Berkeley\n"
     ]
    },
    {
     "data": {
      "text/plain": [
       "[-122.272747, 37.8715926, 'locality,political', 'Berkeley, CA, USA']"
      ]
     },
     "execution_count": 102,
     "metadata": {},
     "output_type": "execute_result"
    }
   ],
   "source": [
    "# testing function\n",
    "getGeocodeInfo('Berkeley')"
   ]
  },
  {
   "cell_type": "code",
   "execution_count": 104,
   "metadata": {
    "collapsed": false
   },
   "outputs": [
    {
     "name": "stdout",
     "output_type": "stream",
     "text": [
      "Yevropeis'ka Square, Kyiv, Ukraine\n",
      "{'formatted_address': \"Yevropeis'ka Square, Kyiv, Ukraine\", 'address_components': [{'long_name': \"Yevropeis'ka Square\", 'types': ['route'], 'short_name': \"Yevropeis'ka Square\"}, {'long_name': 'Kyiv', 'types': ['locality', 'political'], 'short_name': 'Kyiv'}, {'long_name': 'Kyiv City', 'types': ['administrative_area_level_2', 'political'], 'short_name': 'Kyiv City'}, {'long_name': 'Kyiv city', 'types': ['administrative_area_level_1', 'political'], 'short_name': 'Kyiv city'}, {'long_name': 'Ukraine', 'types': ['country', 'political'], 'short_name': 'UA'}], 'types': ['route'], 'place_id': 'ChIJwwXZJ07O1EAR6ii2949BS34', 'geometry': {'location': {'lng': 30.527185, 'lat': 50.452217}, 'viewport': {'southwest': {'lng': 30.5261012197085, 'lat': 50.4508852697085}, 'northeast': {'lng': 30.5287991802915, 'lat': 50.4535832302915}}, 'bounds': {'southwest': {'lng': 30.5266489, 'lat': 50.451461}, 'northeast': {'lng': 30.5282515, 'lat': 50.4530075}}, 'location_type': 'GEOMETRIC_CENTER'}}\n",
      "geocoding... European\n"
     ]
    },
    {
     "data": {
      "text/plain": [
       "[30.527185, 50.452217, 'route', \"Yevropeis'ka Square, Kyiv, Ukraine\"]"
      ]
     },
     "execution_count": 104,
     "metadata": {},
     "output_type": "execute_result"
    }
   ],
   "source": [
    "# test data that won't geocode\n",
    "t = gloc.geocode('European')\n",
    "print(t)\n",
    "print(t.raw)\n",
    "\n",
    "getGeocodeInfo('European')\n"
   ]
  },
  {
   "cell_type": "code",
   "execution_count": 74,
   "metadata": {
    "collapsed": false
   },
   "outputs": [],
   "source": [
    "## THIS DIDN\"T WORK! But would be nice to git it to\n",
    "#(loc_table['place'], loc_table['count']) = zip(*loc_count)\n",
    "#(top_locs['lng'], top_locs['lat'], top_locs['fpl'], top_locs['fcl_name']) = top_locs.apply(lambda x: zip(*getGeocodeInfo(x)), ['place'])"
   ]
  },
  {
   "cell_type": "code",
   "execution_count": 105,
   "metadata": {
    "collapsed": false
   },
   "outputs": [],
   "source": [
    "# GEOCODE ALL PLACES IN THE TOP_LOCS TABLE\n",
    "x = []\n",
    "def getAll():\n",
    "    for i in top_locs['place']:\n",
    "        x.append(getGeocodeInfo(i))\n",
    "    return x"
   ]
  },
  {
   "cell_type": "code",
   "execution_count": 106,
   "metadata": {
    "collapsed": false
   },
   "outputs": [
    {
     "name": "stdout",
     "output_type": "stream",
     "text": [
      "geocoding... Allahabad\n",
      "geocoding... America\n",
      "geocoding... Aouda\n",
      "geocoding... Bombay\n",
      "geocoding... Brindisi\n",
      "geocoding... Bundelcund\n",
      "geocoding... Calcutta\n",
      "geocoding... Chicago\n",
      "geocoding... China\n",
      "geocoding... England\n",
      "geocoding... Europe\n",
      "geocoding... European\n",
      "geocoding... Fix\n",
      "geocoding... Frenchman\n",
      "geocoding... Hong Kong\n",
      "geocoding... India\n",
      "geocoding... Japan\n",
      "geocoding... London\n",
      "geocoding... Mongolia\n",
      "geocoding... Mormon\n",
      "geocoding... New York\n",
      "geocoding... Omaha\n",
      "geocoding... Paris\n",
      "geocoding... Parsee\n",
      "geocoding... Passepartout\n",
      "geocoding... Pillaji\n",
      "geocoding... San\n",
      "geocoding... San Francisco\n",
      "geocoding... Saville\n",
      "geocoding... Shanghai\n",
      "geocoding... Singapore\n",
      "geocoding... Suez\n",
      "geocoding... United States\n",
      "geocoding... Yokohama\n"
     ]
    },
    {
     "data": {
      "text/plain": [
       "[[81.846311,\n",
       "  25.4358011,\n",
       "  'locality,political',\n",
       "  'Allahabad, Uttar Pradesh 211003, India'],\n",
       " [-95.712891, 37.09024, 'country,political', 'United States'],\n",
       " [1.0424995, 8.7219638, 'establishment,point_of_interest', 'Aouda, Togo'],\n",
       " [72.8776559, 19.0759837, 'locality,political', 'Mumbai, Maharashtra, India'],\n",
       " [17.9417616,\n",
       "  40.6327278,\n",
       "  'locality,political',\n",
       "  '72100 Brindisi, Province of Brindisi, Italy'],\n",
       " [85.5441967,\n",
       "  24.8752011,\n",
       "  'political,sublocality,sublocality_level_1',\n",
       "  'Bundelkhand, Nawada, Bihar, India'],\n",
       " [88.36389500000001,\n",
       "  22.572646,\n",
       "  'locality,political',\n",
       "  'Kolkata, West Bengal 700001, India'],\n",
       " [-87.6297982, 41.8781136, 'locality,political', 'Chicago, IL, USA'],\n",
       " [104.195397, 35.86166, 'country,political', 'China'],\n",
       " [-1.1743197,\n",
       "  52.3555177,\n",
       "  'administrative_area_level_1,political',\n",
       "  'England, UK'],\n",
       " [15.2551187, 54.5259614, 'continent,establishment,natural_feature', 'Europe'],\n",
       " [30.527185, 50.452217, 'route', \"Yevropeis'ka Square, Kyiv, Ukraine\"],\n",
       " [135.615898,\n",
       "  34.7203985,\n",
       "  'premise',\n",
       "  'Japan, 〒574-0064 Ōsaka-fu, Daitō-shi, Goryō, 1 Chome−5 ＦＩＸ'],\n",
       " [-120.2778009, 39.8824615, 'route', 'Frenchman, Beckwourth, CA 96129, USA'],\n",
       " [114.109497, 22.396428, 'country,political', 'Hong Kong'],\n",
       " [78.96288, 20.593684, 'country,political', 'India'],\n",
       " [138.252924, 36.204824, 'country,political', 'Japan'],\n",
       " [-0.1277583, 51.5073509, 'locality,political', 'London, UK'],\n",
       " [103.846656, 46.862496, 'country,political', 'Mongolia'],\n",
       " [-109.97295, 34.2648629, 'route', 'Mormon, Show Low, AZ 85901, USA'],\n",
       " [-74.0059413, 40.7127837, 'locality,political', 'New York, NY, USA'],\n",
       " [-95.99798829999999, 41.2523634, 'locality,political', 'Omaha, NE, USA'],\n",
       " [2.3522219, 48.856614, 'locality,political', 'Paris, France'],\n",
       " [0, 0, 'none', 'none'],\n",
       " [5.213042499999999,\n",
       "  51.695086,\n",
       "  'route',\n",
       "  'Passepartout, 5251 Vlijmen, Netherlands'],\n",
       " [0, 0, 'none', 'none'],\n",
       " [-4.8987523, 13.2944016, 'locality,political', 'San, Mali'],\n",
       " [-122.4194155, 37.7749295, 'locality,political', 'San Francisco, CA, USA'],\n",
       " [-77.39582089999999,\n",
       "  40.4384144,\n",
       "  'locality,political',\n",
       "  'Saville, PA 17037, USA'],\n",
       " [121.473701, 31.230416, 'locality,political', 'Shanghai, China'],\n",
       " [103.819836, 1.352083, 'country,political', 'Singapore'],\n",
       " [32.5498069,\n",
       "  29.9668343,\n",
       "  'locality,political',\n",
       "  'Suez, Suez Governorate, Egypt'],\n",
       " [-95.712891, 37.09024, 'country,political', 'United States'],\n",
       " [139.6380256,\n",
       "  35.4437078,\n",
       "  'locality,political',\n",
       "  'Yokohama, Kanagawa Prefecture, Japan']]"
      ]
     },
     "execution_count": 106,
     "metadata": {},
     "output_type": "execute_result"
    }
   ],
   "source": [
    "x = getAll()\n",
    "x"
   ]
  },
  {
   "cell_type": "code",
   "execution_count": 108,
   "metadata": {
    "collapsed": false
   },
   "outputs": [
    {
     "data": {
      "text/plain": [
       "True"
      ]
     },
     "execution_count": 108,
     "metadata": {},
     "output_type": "execute_result"
    }
   ],
   "source": [
    "#MAKE SURE THE NUMBER OF GEOCODED LOCS IS SAME AS NUMBER OF ROWS IN OUR TABLE\n",
    "top_locs.num_rows == len(x)"
   ]
  },
  {
   "cell_type": "code",
   "execution_count": 109,
   "metadata": {
    "collapsed": false
   },
   "outputs": [
    {
     "data": {
      "text/html": [
       "<table border=\"1\" class=\"dataframe\">\n",
       "    <thead>\n",
       "        <tr>\n",
       "            <th>place</th> <th>count</th> <th>longitude</th> <th>latitude</th> <th>loctype</th> <th>locname</th>\n",
       "        </tr>\n",
       "    </thead>\n",
       "    <tbody>\n",
       "        <tr>\n",
       "            <td>Allahabad    </td> <td>9    </td> <td>81.8463  </td> <td>25.4358 </td> <td>locality,political                       </td> <td>Allahabad, Uttar Pradesh 211003, India                    </td>\n",
       "        </tr>\n",
       "    </tbody>\n",
       "        <tr>\n",
       "            <td>America      </td> <td>14   </td> <td>-95.7129 </td> <td>37.0902 </td> <td>country,political                        </td> <td>United States                                             </td>\n",
       "        </tr>\n",
       "    </tbody>\n",
       "        <tr>\n",
       "            <td>Aouda        </td> <td>33   </td> <td>1.0425   </td> <td>8.72196 </td> <td>establishment,point_of_interest          </td> <td>Aouda, Togo                                               </td>\n",
       "        </tr>\n",
       "    </tbody>\n",
       "        <tr>\n",
       "            <td>Bombay       </td> <td>52   </td> <td>72.8777  </td> <td>19.076  </td> <td>locality,political                       </td> <td>Mumbai, Maharashtra, India                                </td>\n",
       "        </tr>\n",
       "    </tbody>\n",
       "        <tr>\n",
       "            <td>Brindisi     </td> <td>9    </td> <td>17.9418  </td> <td>40.6327 </td> <td>locality,political                       </td> <td>72100 Brindisi, Province of Brindisi, Italy               </td>\n",
       "        </tr>\n",
       "    </tbody>\n",
       "        <tr>\n",
       "            <td>Bundelcund   </td> <td>7    </td> <td>85.5442  </td> <td>24.8752 </td> <td>political,sublocality,sublocality_level_1</td> <td>Bundelkhand, Nawada, Bihar, India                         </td>\n",
       "        </tr>\n",
       "    </tbody>\n",
       "        <tr>\n",
       "            <td>Calcutta     </td> <td>29   </td> <td>88.3639  </td> <td>22.5726 </td> <td>locality,political                       </td> <td>Kolkata, West Bengal 700001, India                        </td>\n",
       "        </tr>\n",
       "    </tbody>\n",
       "        <tr>\n",
       "            <td>Chicago      </td> <td>8    </td> <td>-87.6298 </td> <td>41.8781 </td> <td>locality,political                       </td> <td>Chicago, IL, USA                                          </td>\n",
       "        </tr>\n",
       "    </tbody>\n",
       "        <tr>\n",
       "            <td>China        </td> <td>13   </td> <td>104.195  </td> <td>35.8617 </td> <td>country,political                        </td> <td>China                                                     </td>\n",
       "        </tr>\n",
       "    </tbody>\n",
       "        <tr>\n",
       "            <td>England      </td> <td>30   </td> <td>-1.17432 </td> <td>52.3555 </td> <td>administrative_area_level_1,political    </td> <td>England, UK                                               </td>\n",
       "        </tr>\n",
       "    </tbody>\n",
       "        <tr>\n",
       "            <td>Europe       </td> <td>13   </td> <td>15.2551  </td> <td>54.526  </td> <td>continent,establishment,natural_feature  </td> <td>Europe                                                    </td>\n",
       "        </tr>\n",
       "    </tbody>\n",
       "        <tr>\n",
       "            <td>European     </td> <td>11   </td> <td>30.5272  </td> <td>50.4522 </td> <td>route                                    </td> <td>Yevropeis'ka Square, Kyiv, Ukraine                        </td>\n",
       "        </tr>\n",
       "    </tbody>\n",
       "        <tr>\n",
       "            <td>Fix          </td> <td>14   </td> <td>135.616  </td> <td>34.7204 </td> <td>premise                                  </td> <td>Japan, 〒574-0064 Ōsaka-fu, Daitō-shi, Goryō, 1 Chome−5 ＦＩＸ</td>\n",
       "        </tr>\n",
       "    </tbody>\n",
       "        <tr>\n",
       "            <td>Frenchman    </td> <td>6    </td> <td>-120.278 </td> <td>39.8825 </td> <td>route                                    </td> <td>Frenchman, Beckwourth, CA 96129, USA                      </td>\n",
       "        </tr>\n",
       "    </tbody>\n",
       "        <tr>\n",
       "            <td>Hong Kong    </td> <td>57   </td> <td>114.109  </td> <td>22.3964 </td> <td>country,political                        </td> <td>Hong Kong                                                 </td>\n",
       "        </tr>\n",
       "    </tbody>\n",
       "        <tr>\n",
       "            <td>India        </td> <td>34   </td> <td>78.9629  </td> <td>20.5937 </td> <td>country,political                        </td> <td>India                                                     </td>\n",
       "        </tr>\n",
       "    </tbody>\n",
       "        <tr>\n",
       "            <td>Japan        </td> <td>13   </td> <td>138.253  </td> <td>36.2048 </td> <td>country,political                        </td> <td>Japan                                                     </td>\n",
       "        </tr>\n",
       "    </tbody>\n",
       "        <tr>\n",
       "            <td>London       </td> <td>62   </td> <td>-0.127758</td> <td>51.5074 </td> <td>locality,political                       </td> <td>London, UK                                                </td>\n",
       "        </tr>\n",
       "    </tbody>\n",
       "        <tr>\n",
       "            <td>Mongolia     </td> <td>9    </td> <td>103.847  </td> <td>46.8625 </td> <td>country,political                        </td> <td>Mongolia                                                  </td>\n",
       "        </tr>\n",
       "    </tbody>\n",
       "        <tr>\n",
       "            <td>Mormon       </td> <td>6    </td> <td>-109.973 </td> <td>34.2649 </td> <td>route                                    </td> <td>Mormon, Show Low, AZ 85901, USA                           </td>\n",
       "        </tr>\n",
       "    </tbody>\n",
       "        <tr>\n",
       "            <td>New York     </td> <td>28   </td> <td>-74.0059 </td> <td>40.7128 </td> <td>locality,political                       </td> <td>New York, NY, USA                                         </td>\n",
       "        </tr>\n",
       "    </tbody>\n",
       "        <tr>\n",
       "            <td>Omaha        </td> <td>13   </td> <td>-95.998  </td> <td>41.2524 </td> <td>locality,political                       </td> <td>Omaha, NE, USA                                            </td>\n",
       "        </tr>\n",
       "    </tbody>\n",
       "        <tr>\n",
       "            <td>Paris        </td> <td>10   </td> <td>2.35222  </td> <td>48.8566 </td> <td>locality,political                       </td> <td>Paris, France                                             </td>\n",
       "        </tr>\n",
       "    </tbody>\n",
       "        <tr>\n",
       "            <td>Parsee       </td> <td>7    </td> <td>0        </td> <td>0       </td> <td>none                                     </td> <td>none                                                      </td>\n",
       "        </tr>\n",
       "    </tbody>\n",
       "        <tr>\n",
       "            <td>Passepartout </td> <td>55   </td> <td>5.21304  </td> <td>51.6951 </td> <td>route                                    </td> <td>Passepartout, 5251 Vlijmen, Netherlands                   </td>\n",
       "        </tr>\n",
       "    </tbody>\n",
       "        <tr>\n",
       "            <td>Pillaji      </td> <td>6    </td> <td>0        </td> <td>0       </td> <td>none                                     </td> <td>none                                                      </td>\n",
       "        </tr>\n",
       "    </tbody>\n",
       "        <tr>\n",
       "            <td>San          </td> <td>8    </td> <td>-4.89875 </td> <td>13.2944 </td> <td>locality,political                       </td> <td>San, Mali                                                 </td>\n",
       "        </tr>\n",
       "    </tbody>\n",
       "        <tr>\n",
       "            <td>San Francisco</td> <td>6    </td> <td>-122.419 </td> <td>37.7749 </td> <td>locality,political                       </td> <td>San Francisco, CA, USA                                    </td>\n",
       "        </tr>\n",
       "    </tbody>\n",
       "        <tr>\n",
       "            <td>Saville      </td> <td>9    </td> <td>-77.3958 </td> <td>40.4384 </td> <td>locality,political                       </td> <td>Saville, PA 17037, USA                                    </td>\n",
       "        </tr>\n",
       "    </tbody>\n",
       "        <tr>\n",
       "            <td>Shanghai     </td> <td>14   </td> <td>121.474  </td> <td>31.2304 </td> <td>locality,political                       </td> <td>Shanghai, China                                           </td>\n",
       "        </tr>\n",
       "    </tbody>\n",
       "        <tr>\n",
       "            <td>Singapore    </td> <td>9    </td> <td>103.82   </td> <td>1.35208 </td> <td>country,political                        </td> <td>Singapore                                                 </td>\n",
       "        </tr>\n",
       "    </tbody>\n",
       "        <tr>\n",
       "            <td>Suez         </td> <td>7    </td> <td>32.5498  </td> <td>29.9668 </td> <td>locality,political                       </td> <td>Suez, Suez Governorate, Egypt                             </td>\n",
       "        </tr>\n",
       "    </tbody>\n",
       "        <tr>\n",
       "            <td>United States</td> <td>17   </td> <td>-95.7129 </td> <td>37.0902 </td> <td>country,political                        </td> <td>United States                                             </td>\n",
       "        </tr>\n",
       "    </tbody>\n",
       "        <tr>\n",
       "            <td>Yokohama     </td> <td>21   </td> <td>139.638  </td> <td>35.4437 </td> <td>locality,political                       </td> <td>Yokohama, Kanagawa Prefecture, Japan                      </td>\n",
       "        </tr>\n",
       "    </tbody>\n",
       "</table>"
      ],
      "text/plain": [
       "<IPython.core.display.HTML object>"
      ]
     },
     "metadata": {},
     "output_type": "display_data"
    }
   ],
   "source": [
    "# Add geocoded location data to the table\n",
    "(top_locs['longitude'], top_locs['latitude'], top_locs['loctype'], top_locs['locname']) = zip(*x)\n",
    "top_locs.show()"
   ]
  },
  {
   "cell_type": "code",
   "execution_count": 110,
   "metadata": {
    "collapsed": false
   },
   "outputs": [
    {
     "data": {
      "text/html": [
       "<table border=\"1\" class=\"dataframe\">\n",
       "    <thead>\n",
       "        <tr>\n",
       "            <th>place</th> <th>count</th> <th>longitude</th> <th>latitude</th> <th>loctype</th> <th>locname</th> <th>radius</th> <th>color</th>\n",
       "        </tr>\n",
       "    </thead>\n",
       "    <tbody>\n",
       "        <tr>\n",
       "            <td>Allahabad </td> <td>9    </td> <td>81.8463  </td> <td>25.4358 </td> <td>locality,political                       </td> <td>Allahabad, Uttar Pradesh 211003, India     </td> <td>9000  </td> <td>red  </td>\n",
       "        </tr>\n",
       "    </tbody>\n",
       "        <tr>\n",
       "            <td>America   </td> <td>14   </td> <td>-95.7129 </td> <td>37.0902 </td> <td>country,political                        </td> <td>United States                              </td> <td>14000 </td> <td>red  </td>\n",
       "        </tr>\n",
       "    </tbody>\n",
       "        <tr>\n",
       "            <td>Aouda     </td> <td>33   </td> <td>1.0425   </td> <td>8.72196 </td> <td>establishment,point_of_interest          </td> <td>Aouda, Togo                                </td> <td>33000 </td> <td>red  </td>\n",
       "        </tr>\n",
       "    </tbody>\n",
       "        <tr>\n",
       "            <td>Bombay    </td> <td>52   </td> <td>72.8777  </td> <td>19.076  </td> <td>locality,political                       </td> <td>Mumbai, Maharashtra, India                 </td> <td>52000 </td> <td>red  </td>\n",
       "        </tr>\n",
       "    </tbody>\n",
       "        <tr>\n",
       "            <td>Brindisi  </td> <td>9    </td> <td>17.9418  </td> <td>40.6327 </td> <td>locality,political                       </td> <td>72100 Brindisi, Province of Brindisi, Italy</td> <td>9000  </td> <td>red  </td>\n",
       "        </tr>\n",
       "    </tbody>\n",
       "        <tr>\n",
       "            <td>Bundelcund</td> <td>7    </td> <td>85.5442  </td> <td>24.8752 </td> <td>political,sublocality,sublocality_level_1</td> <td>Bundelkhand, Nawada, Bihar, India          </td> <td>7000  </td> <td>red  </td>\n",
       "        </tr>\n",
       "    </tbody>\n",
       "        <tr>\n",
       "            <td>Calcutta  </td> <td>29   </td> <td>88.3639  </td> <td>22.5726 </td> <td>locality,political                       </td> <td>Kolkata, West Bengal 700001, India         </td> <td>29000 </td> <td>red  </td>\n",
       "        </tr>\n",
       "    </tbody>\n",
       "        <tr>\n",
       "            <td>Chicago   </td> <td>8    </td> <td>-87.6298 </td> <td>41.8781 </td> <td>locality,political                       </td> <td>Chicago, IL, USA                           </td> <td>8000  </td> <td>red  </td>\n",
       "        </tr>\n",
       "    </tbody>\n",
       "        <tr>\n",
       "            <td>China     </td> <td>13   </td> <td>104.195  </td> <td>35.8617 </td> <td>country,political                        </td> <td>China                                      </td> <td>13000 </td> <td>red  </td>\n",
       "        </tr>\n",
       "    </tbody>\n",
       "        <tr>\n",
       "            <td>England   </td> <td>30   </td> <td>-1.17432 </td> <td>52.3555 </td> <td>administrative_area_level_1,political    </td> <td>England, UK                                </td> <td>30000 </td> <td>red  </td>\n",
       "        </tr>\n",
       "    </tbody>\n",
       "</table>\n",
       "<p>... (24 rows omitted)</p"
      ],
      "text/plain": [
       "place      | count | longitude | latitude | loctype                                   | locname                                     | radius | color\n",
       "Allahabad  | 9     | 81.8463   | 25.4358  | locality,political                        | Allahabad, Uttar Pradesh 211003, India      | 9000   | red\n",
       "America    | 14    | -95.7129  | 37.0902  | country,political                         | United States                               | 14000  | red\n",
       "Aouda      | 33    | 1.0425    | 8.72196  | establishment,point_of_interest           | Aouda, Togo                                 | 33000  | red\n",
       "Bombay     | 52    | 72.8777   | 19.076   | locality,political                        | Mumbai, Maharashtra, India                  | 52000  | red\n",
       "Brindisi   | 9     | 17.9418   | 40.6327  | locality,political                        | 72100 Brindisi, Province of Brindisi, Italy | 9000   | red\n",
       "Bundelcund | 7     | 85.5442   | 24.8752  | political,sublocality,sublocality_level_1 | Bundelkhand, Nawada, Bihar, India           | 7000   | red\n",
       "Calcutta   | 29    | 88.3639   | 22.5726  | locality,political                        | Kolkata, West Bengal 700001, India          | 29000  | red\n",
       "Chicago    | 8     | -87.6298  | 41.8781  | locality,political                        | Chicago, IL, USA                            | 8000   | red\n",
       "China      | 13    | 104.195   | 35.8617  | country,political                         | China                                       | 13000  | red\n",
       "England    | 30    | -1.17432  | 52.3555  | administrative_area_level_1,political     | England, UK                                 | 30000  | red\n",
       "... (24 rows omitted)"
      ]
     },
     "execution_count": 110,
     "metadata": {},
     "output_type": "execute_result"
    }
   ],
   "source": [
    "# Set the color and radius for each point we will map\n",
    "top_locs['radius'] = 1000 * top_locs['count']\n",
    "top_locs['color'] = 'red'\n",
    "top_locs"
   ]
  },
  {
   "cell_type": "code",
   "execution_count": 136,
   "metadata": {
    "collapsed": false
   },
   "outputs": [],
   "source": [
    "# Creat descriptive text for popup\n",
    "top_locs['description'] = top_locs.apply(lambda x,y,z: \"%s, %s mentions (as %s)\"% (x, str(y),z), ['locname', 'count', 'place'])"
   ]
  },
  {
   "cell_type": "code",
   "execution_count": null,
   "metadata": {
    "collapsed": false
   },
   "outputs": [],
   "source": []
  },
  {
   "cell_type": "code",
   "execution_count": 137,
   "metadata": {
    "collapsed": false
   },
   "outputs": [
    {
     "data": {
      "text/html": [
       "<table border=\"1\" class=\"dataframe\">\n",
       "    <thead>\n",
       "        <tr>\n",
       "            <th>place</th> <th>count</th> <th>longitude</th> <th>latitude</th> <th>loctype</th> <th>locname</th> <th>radius</th> <th>color</th> <th>description</th>\n",
       "        </tr>\n",
       "    </thead>\n",
       "    <tbody>\n",
       "        <tr>\n",
       "            <td>Allahabad </td> <td>9    </td> <td>81.8463  </td> <td>25.4358 </td> <td>locality,political                       </td> <td>Allahabad, Uttar Pradesh 211003, India     </td> <td>9000  </td> <td>red  </td> <td>Allahabad, Uttar Pradesh 211003, India, 9 mentions (as A ...</td>\n",
       "        </tr>\n",
       "    </tbody>\n",
       "        <tr>\n",
       "            <td>America   </td> <td>14   </td> <td>-95.7129 </td> <td>37.0902 </td> <td>country,political                        </td> <td>United States                              </td> <td>14000 </td> <td>red  </td> <td>United States, 14 mentions (as America)                     </td>\n",
       "        </tr>\n",
       "    </tbody>\n",
       "        <tr>\n",
       "            <td>Aouda     </td> <td>33   </td> <td>1.0425   </td> <td>8.72196 </td> <td>establishment,point_of_interest          </td> <td>Aouda, Togo                                </td> <td>33000 </td> <td>red  </td> <td>Aouda, Togo, 33 mentions (as Aouda)                         </td>\n",
       "        </tr>\n",
       "    </tbody>\n",
       "        <tr>\n",
       "            <td>Bombay    </td> <td>52   </td> <td>72.8777  </td> <td>19.076  </td> <td>locality,political                       </td> <td>Mumbai, Maharashtra, India                 </td> <td>52000 </td> <td>red  </td> <td>Mumbai, Maharashtra, India, 52 mentions (as Bombay)         </td>\n",
       "        </tr>\n",
       "    </tbody>\n",
       "        <tr>\n",
       "            <td>Brindisi  </td> <td>9    </td> <td>17.9418  </td> <td>40.6327 </td> <td>locality,political                       </td> <td>72100 Brindisi, Province of Brindisi, Italy</td> <td>9000  </td> <td>red  </td> <td>72100 Brindisi, Province of Brindisi, Italy, 9 mentions  ...</td>\n",
       "        </tr>\n",
       "    </tbody>\n",
       "        <tr>\n",
       "            <td>Bundelcund</td> <td>7    </td> <td>85.5442  </td> <td>24.8752 </td> <td>political,sublocality,sublocality_level_1</td> <td>Bundelkhand, Nawada, Bihar, India          </td> <td>7000  </td> <td>red  </td> <td>Bundelkhand, Nawada, Bihar, India, 7 mentions (as Bundel ...</td>\n",
       "        </tr>\n",
       "    </tbody>\n",
       "        <tr>\n",
       "            <td>Calcutta  </td> <td>29   </td> <td>88.3639  </td> <td>22.5726 </td> <td>locality,political                       </td> <td>Kolkata, West Bengal 700001, India         </td> <td>29000 </td> <td>red  </td> <td>Kolkata, West Bengal 700001, India, 29 mentions (as Calc ...</td>\n",
       "        </tr>\n",
       "    </tbody>\n",
       "        <tr>\n",
       "            <td>Chicago   </td> <td>8    </td> <td>-87.6298 </td> <td>41.8781 </td> <td>locality,political                       </td> <td>Chicago, IL, USA                           </td> <td>8000  </td> <td>red  </td> <td>Chicago, IL, USA, 8 mentions (as Chicago)                   </td>\n",
       "        </tr>\n",
       "    </tbody>\n",
       "        <tr>\n",
       "            <td>China     </td> <td>13   </td> <td>104.195  </td> <td>35.8617 </td> <td>country,political                        </td> <td>China                                      </td> <td>13000 </td> <td>red  </td> <td>China, 13 mentions (as China)                               </td>\n",
       "        </tr>\n",
       "    </tbody>\n",
       "        <tr>\n",
       "            <td>England   </td> <td>30   </td> <td>-1.17432 </td> <td>52.3555 </td> <td>administrative_area_level_1,political    </td> <td>England, UK                                </td> <td>30000 </td> <td>red  </td> <td>England, UK, 30 mentions (as England)                       </td>\n",
       "        </tr>\n",
       "    </tbody>\n",
       "</table>\n",
       "<p>... (22 rows omitted)</p"
      ],
      "text/plain": [
       "place      | count | longitude | latitude | loctype                                   | locname                                     | radius | color | description\n",
       "Allahabad  | 9     | 81.8463   | 25.4358  | locality,political                        | Allahabad, Uttar Pradesh 211003, India      | 9000   | red   | Allahabad, Uttar Pradesh 211003, India, 9 mentions (as A ...\n",
       "America    | 14    | -95.7129  | 37.0902  | country,political                         | United States                               | 14000  | red   | United States, 14 mentions (as America)\n",
       "Aouda      | 33    | 1.0425    | 8.72196  | establishment,point_of_interest           | Aouda, Togo                                 | 33000  | red   | Aouda, Togo, 33 mentions (as Aouda)\n",
       "Bombay     | 52    | 72.8777   | 19.076   | locality,political                        | Mumbai, Maharashtra, India                  | 52000  | red   | Mumbai, Maharashtra, India, 52 mentions (as Bombay)\n",
       "Brindisi   | 9     | 17.9418   | 40.6327  | locality,political                        | 72100 Brindisi, Province of Brindisi, Italy | 9000   | red   | 72100 Brindisi, Province of Brindisi, Italy, 9 mentions  ...\n",
       "Bundelcund | 7     | 85.5442   | 24.8752  | political,sublocality,sublocality_level_1 | Bundelkhand, Nawada, Bihar, India           | 7000   | red   | Bundelkhand, Nawada, Bihar, India, 7 mentions (as Bundel ...\n",
       "Calcutta   | 29    | 88.3639   | 22.5726  | locality,political                        | Kolkata, West Bengal 700001, India          | 29000  | red   | Kolkata, West Bengal 700001, India, 29 mentions (as Calc ...\n",
       "Chicago    | 8     | -87.6298  | 41.8781  | locality,political                        | Chicago, IL, USA                            | 8000   | red   | Chicago, IL, USA, 8 mentions (as Chicago)\n",
       "China      | 13    | 104.195   | 35.8617  | country,political                         | China                                       | 13000  | red   | China, 13 mentions (as China)\n",
       "England    | 30    | -1.17432  | 52.3555  | administrative_area_level_1,political     | England, UK                                 | 30000  | red   | England, UK, 30 mentions (as England)\n",
       "... (22 rows omitted)"
      ]
     },
     "execution_count": 137,
     "metadata": {},
     "output_type": "execute_result"
    }
   ],
   "source": [
    "# Select only the columns that will be used to map the points\n",
    "top_locs = top_locs.where(top_locs['latitude'] != 0)  # couldnt combine these two conditions\n",
    "top_locs = top_locs.where(top_locs['longitude'] != 0) # assuming 0,0 not a valid locatoin\n",
    "\n",
    "# This filtering with predicates requires most recent version of datascience package\n",
    "#top_locs.where('loctype', are.equal_to, 'locality')\n",
    "top_locs"
   ]
  },
  {
   "cell_type": "code",
   "execution_count": 138,
   "metadata": {
    "collapsed": false
   },
   "outputs": [
    {
     "data": {
      "text/html": [
       "<table border=\"1\" class=\"dataframe\">\n",
       "    <thead>\n",
       "        <tr>\n",
       "            <th>latitude</th> <th>longitude</th> <th>description</th> <th>color</th> <th>radius</th>\n",
       "        </tr>\n",
       "    </thead>\n",
       "    <tbody>\n",
       "        <tr>\n",
       "            <td>25.4358 </td> <td>81.8463  </td> <td>Allahabad, Uttar Pradesh 211003, India, 9 mentions (as A ...</td> <td>red  </td> <td>9000  </td>\n",
       "        </tr>\n",
       "    </tbody>\n",
       "        <tr>\n",
       "            <td>37.0902 </td> <td>-95.7129 </td> <td>United States, 14 mentions (as America)                     </td> <td>red  </td> <td>14000 </td>\n",
       "        </tr>\n",
       "    </tbody>\n",
       "        <tr>\n",
       "            <td>8.72196 </td> <td>1.0425   </td> <td>Aouda, Togo, 33 mentions (as Aouda)                         </td> <td>red  </td> <td>33000 </td>\n",
       "        </tr>\n",
       "    </tbody>\n",
       "        <tr>\n",
       "            <td>19.076  </td> <td>72.8777  </td> <td>Mumbai, Maharashtra, India, 52 mentions (as Bombay)         </td> <td>red  </td> <td>52000 </td>\n",
       "        </tr>\n",
       "    </tbody>\n",
       "        <tr>\n",
       "            <td>40.6327 </td> <td>17.9418  </td> <td>72100 Brindisi, Province of Brindisi, Italy, 9 mentions  ...</td> <td>red  </td> <td>9000  </td>\n",
       "        </tr>\n",
       "    </tbody>\n",
       "        <tr>\n",
       "            <td>24.8752 </td> <td>85.5442  </td> <td>Bundelkhand, Nawada, Bihar, India, 7 mentions (as Bundel ...</td> <td>red  </td> <td>7000  </td>\n",
       "        </tr>\n",
       "    </tbody>\n",
       "        <tr>\n",
       "            <td>22.5726 </td> <td>88.3639  </td> <td>Kolkata, West Bengal 700001, India, 29 mentions (as Calc ...</td> <td>red  </td> <td>29000 </td>\n",
       "        </tr>\n",
       "    </tbody>\n",
       "        <tr>\n",
       "            <td>41.8781 </td> <td>-87.6298 </td> <td>Chicago, IL, USA, 8 mentions (as Chicago)                   </td> <td>red  </td> <td>8000  </td>\n",
       "        </tr>\n",
       "    </tbody>\n",
       "        <tr>\n",
       "            <td>35.8617 </td> <td>104.195  </td> <td>China, 13 mentions (as China)                               </td> <td>red  </td> <td>13000 </td>\n",
       "        </tr>\n",
       "    </tbody>\n",
       "        <tr>\n",
       "            <td>52.3555 </td> <td>-1.17432 </td> <td>England, UK, 30 mentions (as England)                       </td> <td>red  </td> <td>30000 </td>\n",
       "        </tr>\n",
       "    </tbody>\n",
       "</table>\n",
       "<p>... (22 rows omitted)</p"
      ],
      "text/plain": [
       "latitude | longitude | description                                                  | color | radius\n",
       "25.4358  | 81.8463   | Allahabad, Uttar Pradesh 211003, India, 9 mentions (as A ... | red   | 9000\n",
       "37.0902  | -95.7129  | United States, 14 mentions (as America)                      | red   | 14000\n",
       "8.72196  | 1.0425    | Aouda, Togo, 33 mentions (as Aouda)                          | red   | 33000\n",
       "19.076   | 72.8777   | Mumbai, Maharashtra, India, 52 mentions (as Bombay)          | red   | 52000\n",
       "40.6327  | 17.9418   | 72100 Brindisi, Province of Brindisi, Italy, 9 mentions  ... | red   | 9000\n",
       "24.8752  | 85.5442   | Bundelkhand, Nawada, Bihar, India, 7 mentions (as Bundel ... | red   | 7000\n",
       "22.5726  | 88.3639   | Kolkata, West Bengal 700001, India, 29 mentions (as Calc ... | red   | 29000\n",
       "41.8781  | -87.6298  | Chicago, IL, USA, 8 mentions (as Chicago)                    | red   | 8000\n",
       "35.8617  | 104.195   | China, 13 mentions (as China)                                | red   | 13000\n",
       "52.3555  | -1.17432  | England, UK, 30 mentions (as England)                        | red   | 30000\n",
       "... (22 rows omitted)"
      ]
     },
     "execution_count": 138,
     "metadata": {},
     "output_type": "execute_result"
    }
   ],
   "source": [
    "locmap = top_locs.select(['latitude', 'longitude','description','color','radius'])\n",
    "locmap"
   ]
  },
  {
   "cell_type": "code",
   "execution_count": 139,
   "metadata": {
    "collapsed": false
   },
   "outputs": [
    {
     "data": {
      "text/html": [
       "<div style=\"width:100%;\"><div style=\"position:relative;width:100%;height:0;padding-bottom:60%;\"><iframe src=\"data:text/html;base64,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\" style=\"position:absolute;width:100%;height:100%;left:0;top:0;\"></iframe></div></div>"
      ],
      "text/plain": [
       "<folium.folium.Map at 0x114f348d0>"
      ]
     },
     "execution_count": 139,
     "metadata": {},
     "output_type": "execute_result"
    }
   ],
   "source": [
    "m = folium.Map([45,0], zoom_start=2)\n",
    "m"
   ]
  },
  {
   "cell_type": "code",
   "execution_count": 140,
   "metadata": {
    "collapsed": false
   },
   "outputs": [
    {
     "data": {
      "text/html": [
       "<div style=\"width:100%;\"><div style=\"position:relative;width:100%;height:0;padding-bottom:60%;\"><iframe src=\"data:text/html;base64,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\" style=\"position:absolute;width:100%;height:100%;left:0;top:0;\"></iframe></div></div>"
      ],
      "text/plain": [
       "<folium.folium.Map at 0x114f348d0>"
      ]
     },
     "execution_count": 140,
     "metadata": {},
     "output_type": "execute_result"
    }
   ],
   "source": [
    "for i in range(0,len(top_locs['latitude'])):\n",
    "    folium.Marker([top_locs['latitude'][i], top_locs['longitude'][i]], popup=top_locs['description'][i]).add_to(m)\n",
    "m"
   ]
  },
  {
   "cell_type": "code",
   "execution_count": 126,
   "metadata": {
    "collapsed": false
   },
   "outputs": [
    {
     "data": {
      "text/html": [
       "<div style=\"width:100%;\"><div style=\"position:relative;width:100%;height:0;padding-bottom:60%;\"><iframe src=\"data:text/html;base64,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\" style=\"position:absolute;width:100%;height:100%;left:0;top:0;\"></iframe></div></div>"
      ],
      "text/plain": [
       "<folium.folium.Map at 0x114e401d0>"
      ]
     },
     "execution_count": 126,
     "metadata": {},
     "output_type": "execute_result"
    }
   ],
   "source": [
    "m = folium.Map([45,0], zoom_start=2)\n",
    "\n",
    "for i in range(0,len(top_locs['latitude'])):\n",
    "    folium.CircleMarker([top_locs['latitude'][i], top_locs['longitude'][i]], popup=top_locs['description'][i], radius=top_locs['radius'][i]).add_to(m)\n",
    "m"
   ]
  },
  {
   "cell_type": "code",
   "execution_count": null,
   "metadata": {
    "collapsed": true
   },
   "outputs": [],
   "source": []
  },
  {
   "cell_type": "markdown",
   "metadata": {
    "collapsed": true
   },
   "source": [
    "## Questions:\n",
    "\n",
    "- Name some of the characteristics of place names that geocoded well and of those that did poorly.\n",
    "- Name some of the reasons why place name geoparsing (location named entity recognition NER) is difficult.\n",
    "- Similarly why is place name \"data cleaning\" difficult.\n",
    "- What are some of the benefits to automated geoparsing?\n",
    "- What types of texts would geocode better than others? worse?\n",
    "- What are the alternatives to automated geoparsing?\n",
    "- Discuss the difference between georeferinging that big city across the bay as 'San Francisco' vs. 37.77493, '-122.41942'.\n",
    "- What can you do with the results of automated geoparsing? How might they be used?\n"
   ]
  },
  {
   "cell_type": "code",
   "execution_count": null,
   "metadata": {
    "collapsed": true
   },
   "outputs": [],
   "source": []
  }
 ],
 "metadata": {
  "kernelspec": {
   "display_name": "Python 3",
   "language": "python",
   "name": "python3"
  },
  "language_info": {
   "codemirror_mode": {
    "name": "ipython",
    "version": 3
   },
   "file_extension": ".py",
   "mimetype": "text/x-python",
   "name": "python",
   "nbconvert_exporter": "python",
   "pygments_lexer": "ipython3",
   "version": "3.4.3"
  }
 },
 "nbformat": 4,
 "nbformat_minor": 0
}
